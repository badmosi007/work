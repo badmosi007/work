{
 "cells": [
  {
   "cell_type": "markdown",
   "id": "387d9a33",
   "metadata": {},
   "source": [
    "## Write programs in Python using NumPy library to do the following:"
   ]
  },
  {
   "cell_type": "markdown",
   "id": "100514c8",
   "metadata": {},
   "source": [
    "### a. Compute the mean, standard deviation and variance of a two dimensional random integer array along the second axis."
   ]
  },
  {
   "cell_type": "code",
   "execution_count": 2,
   "id": "fdfc35d0",
   "metadata": {},
   "outputs": [],
   "source": [
    "import numpy as np"
   ]
  },
  {
   "cell_type": "code",
   "execution_count": 8,
   "id": "f9d5b2fd",
   "metadata": {},
   "outputs": [],
   "source": [
    "array2d = np.random.randint(100, size = (3, 4))"
   ]
  },
  {
   "cell_type": "code",
   "execution_count": 9,
   "id": "c8442bee",
   "metadata": {},
   "outputs": [
    {
     "data": {
      "text/plain": [
       "array([[79,  7, 48, 76],\n",
       "       [20, 14, 53,  4],\n",
       "       [67, 51, 19, 70]])"
      ]
     },
     "execution_count": 9,
     "metadata": {},
     "output_type": "execute_result"
    }
   ],
   "source": [
    "array2d"
   ]
  },
  {
   "cell_type": "markdown",
   "id": "83d4f5a7",
   "metadata": {},
   "source": [
    "#### Mean"
   ]
  },
  {
   "cell_type": "code",
   "execution_count": 14,
   "id": "2e381fb4",
   "metadata": {},
   "outputs": [
    {
     "data": {
      "text/plain": [
       "array([52.5 , 22.75, 51.75])"
      ]
     },
     "execution_count": 14,
     "metadata": {},
     "output_type": "execute_result"
    }
   ],
   "source": [
    "np.mean(array2d, axis = 1)"
   ]
  },
  {
   "cell_type": "markdown",
   "id": "9efe5886",
   "metadata": {},
   "source": [
    "#### Standard Deviation"
   ]
  },
  {
   "cell_type": "code",
   "execution_count": 15,
   "id": "a781a9cd",
   "metadata": {},
   "outputs": [
    {
     "data": {
      "text/plain": [
       "array([28.91798748, 18.37627547, 20.24073862])"
      ]
     },
     "execution_count": 15,
     "metadata": {},
     "output_type": "execute_result"
    }
   ],
   "source": [
    "np.std(array2d, axis = 1)"
   ]
  },
  {
   "cell_type": "markdown",
   "id": "29171cdf",
   "metadata": {},
   "source": [
    "#### Variance"
   ]
  },
  {
   "cell_type": "code",
   "execution_count": 16,
   "id": "1d16d824",
   "metadata": {},
   "outputs": [
    {
     "data": {
      "text/plain": [
       "array([836.25  , 337.6875, 409.6875])"
      ]
     },
     "execution_count": 16,
     "metadata": {},
     "output_type": "execute_result"
    }
   ],
   "source": [
    "np.var(array2d, axis = 1)"
   ]
  },
  {
   "cell_type": "markdown",
   "id": "69fa8a41",
   "metadata": {},
   "source": [
    "### b. Get the indices of the sorted elements of a given array:\n",
    "\n",
    "#### B = [56, 48, 22, 41, 78, 91, 24, 46, 8, 33]"
   ]
  },
  {
   "cell_type": "code",
   "execution_count": 13,
   "id": "34550471",
   "metadata": {},
   "outputs": [],
   "source": [
    "b = [56, 48, 22, 41, 78, 91, 24, 46, 8, 33]"
   ]
  },
  {
   "cell_type": "code",
   "execution_count": 19,
   "id": "a4f2a389",
   "metadata": {},
   "outputs": [
    {
     "name": "stdout",
     "output_type": "stream",
     "text": [
      "[8 2 6 9 3 7 1 0 4 5]\n"
     ]
    }
   ],
   "source": [
    "sorted_indices = np.argsort(b)\n",
    "print(sorted_indices)"
   ]
  },
  {
   "cell_type": "markdown",
   "id": "3f0ad683",
   "metadata": {},
   "source": [
    "### c. Create a 2-dimensional array of size m X n integer elements, also print the shape, type and data type of the array and then reshape it into n X m array, n and m are user inputs given at the run time."
   ]
  },
  {
   "cell_type": "code",
   "execution_count": 20,
   "id": "86b0a91e",
   "metadata": {},
   "outputs": [
    {
     "name": "stdout",
     "output_type": "stream",
     "text": [
      "Enter the value of m: 4\n",
      "Enter the value of n: 5\n"
     ]
    }
   ],
   "source": [
    "m = int(input('Enter the value of m: '))\n",
    "n = int(input('Enter the value of n: '))"
   ]
  },
  {
   "cell_type": "code",
   "execution_count": 26,
   "id": "62fde638",
   "metadata": {},
   "outputs": [
    {
     "name": "stdout",
     "output_type": "stream",
     "text": [
      "[[85 47  2 80 81]\n",
      " [69 51  5 47 54]\n",
      " [42 55 38 65 60]\n",
      " [24 56 95 23 70]]\n"
     ]
    }
   ],
   "source": [
    "arr2d = np.random.randint(100, size = (m, n))\n",
    "print(arr2d)"
   ]
  },
  {
   "cell_type": "markdown",
   "id": "2dd6158c",
   "metadata": {},
   "source": [
    "#### Shape"
   ]
  },
  {
   "cell_type": "code",
   "execution_count": 27,
   "id": "762c6b77",
   "metadata": {},
   "outputs": [
    {
     "name": "stdout",
     "output_type": "stream",
     "text": [
      "(4, 5)\n"
     ]
    }
   ],
   "source": [
    "print(arr2d.shape)"
   ]
  },
  {
   "cell_type": "markdown",
   "id": "c8872ee3",
   "metadata": {},
   "source": [
    "#### Dimension"
   ]
  },
  {
   "cell_type": "code",
   "execution_count": 30,
   "id": "1f1e866b",
   "metadata": {},
   "outputs": [
    {
     "name": "stdout",
     "output_type": "stream",
     "text": [
      "2\n"
     ]
    }
   ],
   "source": [
    "print(arr2d.ndim)"
   ]
  },
  {
   "cell_type": "markdown",
   "id": "76a407f1",
   "metadata": {},
   "source": [
    "#### Data Type"
   ]
  },
  {
   "cell_type": "code",
   "execution_count": 28,
   "id": "91d8ce72",
   "metadata": {},
   "outputs": [
    {
     "name": "stdout",
     "output_type": "stream",
     "text": [
      "int32\n"
     ]
    }
   ],
   "source": [
    "print(arr2d.dtype)"
   ]
  },
  {
   "cell_type": "markdown",
   "id": "e8855717",
   "metadata": {},
   "source": [
    "#### Reshape into n X m array"
   ]
  },
  {
   "cell_type": "code",
   "execution_count": 29,
   "id": "88c62b37",
   "metadata": {},
   "outputs": [
    {
     "name": "stdout",
     "output_type": "stream",
     "text": [
      "[[85 47  2 80]\n",
      " [81 69 51  5]\n",
      " [47 54 42 55]\n",
      " [38 65 60 24]\n",
      " [56 95 23 70]]\n"
     ]
    }
   ],
   "source": [
    "arr_1 = np.reshape(arr2d, (n, m))\n",
    "print(arr_1)"
   ]
  },
  {
   "cell_type": "markdown",
   "id": "174a679c",
   "metadata": {},
   "source": [
    "### d. Test whether the elements of a given array are zero, non-zero and NaN. Record the indices of these elements in three separate arrays."
   ]
  },
  {
   "cell_type": "code",
   "execution_count": 10,
   "id": "eb28d9e3",
   "metadata": {},
   "outputs": [],
   "source": [
    "arr_2 = np.array([[0, 2, 3], [4, 1, 0], [0, 0, 2], [np.nan, 3, np.nan]])"
   ]
  },
  {
   "cell_type": "code",
   "execution_count": 11,
   "id": "a3abb346",
   "metadata": {},
   "outputs": [
    {
     "name": "stdout",
     "output_type": "stream",
     "text": [
      "[[ 0.  2.  3.]\n",
      " [ 4.  1.  0.]\n",
      " [ 0.  0.  2.]\n",
      " [nan  3. nan]]\n"
     ]
    }
   ],
   "source": [
    "print(arr_2)"
   ]
  },
  {
   "cell_type": "markdown",
   "id": "04e73c79",
   "metadata": {},
   "source": [
    "#### Indices of elements which are zero"
   ]
  },
  {
   "cell_type": "code",
   "execution_count": 12,
   "id": "a22774ae",
   "metadata": {},
   "outputs": [
    {
     "name": "stdout",
     "output_type": "stream",
     "text": [
      "[[0 0]\n",
      " [1 2]\n",
      " [2 0]\n",
      " [2 1]]\n"
     ]
    }
   ],
   "source": [
    "indices_zero = np.argwhere(arr_2 == 0)\n",
    "print(indices_zero)"
   ]
  },
  {
   "cell_type": "markdown",
   "id": "f464e88c",
   "metadata": {},
   "source": [
    "#### Indices of elements which are non-zero"
   ]
  },
  {
   "cell_type": "code",
   "execution_count": 13,
   "id": "6e2521f9",
   "metadata": {},
   "outputs": [
    {
     "name": "stdout",
     "output_type": "stream",
     "text": [
      "[[0 1]\n",
      " [0 2]\n",
      " [1 0]\n",
      " [1 1]\n",
      " [2 2]\n",
      " [3 0]\n",
      " [3 1]\n",
      " [3 2]]\n"
     ]
    }
   ],
   "source": [
    "indices_non_zero = np.argwhere(arr_2 != 0)\n",
    "print(indices_non_zero)"
   ]
  },
  {
   "cell_type": "markdown",
   "id": "a40e6d43",
   "metadata": {},
   "source": [
    "#### Indices of elements which are NaN"
   ]
  },
  {
   "cell_type": "code",
   "execution_count": 14,
   "id": "aeca42df",
   "metadata": {},
   "outputs": [
    {
     "name": "stdout",
     "output_type": "stream",
     "text": [
      "[[3 0]\n",
      " [3 2]]\n"
     ]
    }
   ],
   "source": [
    "indices_nan = np.argwhere(np.isnan(arr_2))\n",
    "print(indices_nan)"
   ]
  }
 ],
 "metadata": {
  "kernelspec": {
   "display_name": "Python 3",
   "language": "python",
   "name": "python3"
  },
  "language_info": {
   "codemirror_mode": {
    "name": "ipython",
    "version": 3
   },
   "file_extension": ".py",
   "mimetype": "text/x-python",
   "name": "python",
   "nbconvert_exporter": "python",
   "pygments_lexer": "ipython3",
   "version": "3.9.6"
  }
 },
 "nbformat": 4,
 "nbformat_minor": 5
}
