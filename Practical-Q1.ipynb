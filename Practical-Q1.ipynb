{
 "cells": [
  {
   "cell_type": "markdown",
   "id": "491587ca",
   "metadata": {},
   "source": [
    "### Q1. Given below is a dictionary having two keys 'Boys' and 'Girls' and having two lists of heights of five Boys and five Girls respectively as values associated with these keys."
   ]
  },
  {
   "cell_type": "code",
   "execution_count": 2,
   "id": "18225004",
   "metadata": {},
   "outputs": [],
   "source": [
    "height = {'Boys': [72, 68, 70, 69, 74], 'Girls': [63, 65, 69, 62, 61]}"
   ]
  },
  {
   "cell_type": "markdown",
   "id": "ab47e314",
   "metadata": {},
   "source": [
    "List of dictionary can be created as follows:"
   ]
  },
  {
   "cell_type": "code",
   "execution_count": 5,
   "id": "ee5c9ac3",
   "metadata": {},
   "outputs": [],
   "source": [
    "list_of_height = [{'Boys': a, 'Girls': b} for a, b in zip(height['Boys'], height['Girls'])]"
   ]
  },
  {
   "cell_type": "code",
   "execution_count": 7,
   "id": "d4e0dd38",
   "metadata": {},
   "outputs": [
    {
     "data": {
      "text/plain": [
       "[{'Boys': 72, 'Girls': 63},\n",
       " {'Boys': 68, 'Girls': 65},\n",
       " {'Boys': 70, 'Girls': 69},\n",
       " {'Boys': 69, 'Girls': 62},\n",
       " {'Boys': 74, 'Girls': 61}]"
      ]
     },
     "execution_count": 7,
     "metadata": {},
     "output_type": "execute_result"
    }
   ],
   "source": [
    "list_of_height"
   ]
  },
  {
   "cell_type": "markdown",
   "id": "94976259",
   "metadata": {},
   "source": [
    "Or we can do it another way more dynamically:"
   ]
  },
  {
   "cell_type": "code",
   "execution_count": 8,
   "id": "d8684723",
   "metadata": {},
   "outputs": [],
   "source": [
    "result = [dict(zip(height.keys(), i)) for i in zip(*height.values())]"
   ]
  },
  {
   "cell_type": "code",
   "execution_count": 9,
   "id": "e557d93a",
   "metadata": {},
   "outputs": [
    {
     "data": {
      "text/plain": [
       "[{'Boys': 72, 'Girls': 63},\n",
       " {'Boys': 68, 'Girls': 65},\n",
       " {'Boys': 70, 'Girls': 69},\n",
       " {'Boys': 69, 'Girls': 62},\n",
       " {'Boys': 74, 'Girls': 61}]"
      ]
     },
     "execution_count": 9,
     "metadata": {},
     "output_type": "execute_result"
    }
   ],
   "source": [
    "result"
   ]
  }
 ],
 "metadata": {
  "kernelspec": {
   "display_name": "Python 3",
   "language": "python",
   "name": "python3"
  },
  "language_info": {
   "codemirror_mode": {
    "name": "ipython",
    "version": 3
   },
   "file_extension": ".py",
   "mimetype": "text/x-python",
   "name": "python",
   "nbconvert_exporter": "python",
   "pygments_lexer": "ipython3",
   "version": "3.9.6"
  }
 },
 "nbformat": 4,
 "nbformat_minor": 5
}
