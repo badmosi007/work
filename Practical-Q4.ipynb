{
 "cells": [
  {
   "cell_type": "markdown",
   "id": "7506ffc5",
   "metadata": {},
   "source": [
    "## Q4. Consider two excel files having attendance of a workshop’s participants for two days. Each file has three fields ‘Name’, ‘Time of joining’, duration (in minutes) where names are unique within a file. Note that duration may take one of three values (30, 40, 50) only. Import the data into two dataframes and do the following:"
   ]
  },
  {
   "cell_type": "code",
   "execution_count": null,
   "id": "f118f711",
   "metadata": {},
   "outputs": [],
   "source": [
    "import pandas as pd"
   ]
  },
  {
   "cell_type": "code",
   "execution_count": 2,
   "id": "80c66ac2",
   "metadata": {},
   "outputs": [],
   "source": [
    "first_workshop = pd.read_excel('Attendence-1.xlsx')\n",
    "second_workshop = pd.read_excel('Attendence-2.xlsx')"
   ]
  },
  {
   "cell_type": "code",
   "execution_count": 3,
   "id": "37b86d9e",
   "metadata": {},
   "outputs": [],
   "source": [
    "first_frame = pd.DataFrame(first_workshop)\n",
    "second_frame = pd.DataFrame(second_workshop)"
   ]
  },
  {
   "cell_type": "markdown",
   "id": "ff1cc02d",
   "metadata": {},
   "source": [
    "### a. Perform merging of the two dataframes to find the names of students who had attended the workshop on both days."
   ]
  },
  {
   "cell_type": "code",
   "execution_count": 4,
   "id": "3987811f",
   "metadata": {},
   "outputs": [
    {
     "data": {
      "text/html": [
       "<div>\n",
       "<style scoped>\n",
       "    .dataframe tbody tr th:only-of-type {\n",
       "        vertical-align: middle;\n",
       "    }\n",
       "\n",
       "    .dataframe tbody tr th {\n",
       "        vertical-align: top;\n",
       "    }\n",
       "\n",
       "    .dataframe thead th {\n",
       "        text-align: right;\n",
       "    }\n",
       "</style>\n",
       "<table border=\"1\" class=\"dataframe\">\n",
       "  <thead>\n",
       "    <tr style=\"text-align: right;\">\n",
       "      <th></th>\n",
       "      <th>Name</th>\n",
       "      <th>Time Of Joining_x</th>\n",
       "      <th>Duration_x</th>\n",
       "      <th>Time Of Joining_y</th>\n",
       "      <th>Duration_y</th>\n",
       "    </tr>\n",
       "  </thead>\n",
       "  <tbody>\n",
       "    <tr>\n",
       "      <th>0</th>\n",
       "      <td>green</td>\n",
       "      <td>10:10:00</td>\n",
       "      <td>40.0</td>\n",
       "      <td>10:10:00</td>\n",
       "      <td>40</td>\n",
       "    </tr>\n",
       "    <tr>\n",
       "      <th>1</th>\n",
       "      <td>mr fantastic</td>\n",
       "      <td>10:20:00</td>\n",
       "      <td>50.0</td>\n",
       "      <td>10:20:00</td>\n",
       "      <td>50</td>\n",
       "    </tr>\n",
       "    <tr>\n",
       "      <th>2</th>\n",
       "      <td>invisible women</td>\n",
       "      <td>10:30:00</td>\n",
       "      <td>50.0</td>\n",
       "      <td>10:30:00</td>\n",
       "      <td>50</td>\n",
       "    </tr>\n",
       "    <tr>\n",
       "      <th>3</th>\n",
       "      <td>ant man</td>\n",
       "      <td>10:40:00</td>\n",
       "      <td>30.0</td>\n",
       "      <td>10:40:00</td>\n",
       "      <td>30</td>\n",
       "    </tr>\n",
       "  </tbody>\n",
       "</table>\n",
       "</div>"
      ],
      "text/plain": [
       "              Name Time Of Joining_x  Duration_x Time Of Joining_y  Duration_y\n",
       "0            green          10:10:00        40.0          10:10:00          40\n",
       "1     mr fantastic          10:20:00        50.0          10:20:00          50\n",
       "2  invisible women          10:30:00        50.0          10:30:00          50\n",
       "3          ant man          10:40:00        30.0          10:40:00          30"
      ]
     },
     "execution_count": 4,
     "metadata": {},
     "output_type": "execute_result"
    }
   ],
   "source": [
    "pd.merge(first_frame, second_frame, on='Name', how='inner')"
   ]
  },
  {
   "cell_type": "markdown",
   "id": "9d942ba4",
   "metadata": {},
   "source": [
    "### b. Find names of all students who have attended workshop on either of the days."
   ]
  },
  {
   "cell_type": "code",
   "execution_count": 5,
   "id": "1b193b80",
   "metadata": {},
   "outputs": [
    {
     "data": {
      "text/html": [
       "<div>\n",
       "<style scoped>\n",
       "    .dataframe tbody tr th:only-of-type {\n",
       "        vertical-align: middle;\n",
       "    }\n",
       "\n",
       "    .dataframe tbody tr th {\n",
       "        vertical-align: top;\n",
       "    }\n",
       "\n",
       "    .dataframe thead th {\n",
       "        text-align: right;\n",
       "    }\n",
       "</style>\n",
       "<table border=\"1\" class=\"dataframe\">\n",
       "  <thead>\n",
       "    <tr style=\"text-align: right;\">\n",
       "      <th></th>\n",
       "      <th>Name</th>\n",
       "      <th>Time Of Joining_x</th>\n",
       "      <th>Duration_x</th>\n",
       "      <th>Time Of Joining_y</th>\n",
       "      <th>Duration_y</th>\n",
       "    </tr>\n",
       "  </thead>\n",
       "  <tbody>\n",
       "    <tr>\n",
       "      <th>0</th>\n",
       "      <td>james</td>\n",
       "      <td>10:00:00</td>\n",
       "      <td>30.0</td>\n",
       "      <td>NaN</td>\n",
       "      <td>NaN</td>\n",
       "    </tr>\n",
       "    <tr>\n",
       "      <th>1</th>\n",
       "      <td>green</td>\n",
       "      <td>10:10:00</td>\n",
       "      <td>40.0</td>\n",
       "      <td>10:10:00</td>\n",
       "      <td>40.0</td>\n",
       "    </tr>\n",
       "    <tr>\n",
       "      <th>2</th>\n",
       "      <td>mr fantastic</td>\n",
       "      <td>10:20:00</td>\n",
       "      <td>50.0</td>\n",
       "      <td>10:20:00</td>\n",
       "      <td>50.0</td>\n",
       "    </tr>\n",
       "    <tr>\n",
       "      <th>3</th>\n",
       "      <td>invisible women</td>\n",
       "      <td>10:30:00</td>\n",
       "      <td>50.0</td>\n",
       "      <td>10:30:00</td>\n",
       "      <td>50.0</td>\n",
       "    </tr>\n",
       "    <tr>\n",
       "      <th>4</th>\n",
       "      <td>ant man</td>\n",
       "      <td>10:40:00</td>\n",
       "      <td>30.0</td>\n",
       "      <td>10:40:00</td>\n",
       "      <td>30.0</td>\n",
       "    </tr>\n",
       "    <tr>\n",
       "      <th>5</th>\n",
       "      <td>susan</td>\n",
       "      <td>NaN</td>\n",
       "      <td>NaN</td>\n",
       "      <td>10:00:00</td>\n",
       "      <td>20.0</td>\n",
       "    </tr>\n",
       "  </tbody>\n",
       "</table>\n",
       "</div>"
      ],
      "text/plain": [
       "              Name Time Of Joining_x  Duration_x Time Of Joining_y  Duration_y\n",
       "0            james          10:00:00        30.0               NaN         NaN\n",
       "1            green          10:10:00        40.0          10:10:00        40.0\n",
       "2     mr fantastic          10:20:00        50.0          10:20:00        50.0\n",
       "3  invisible women          10:30:00        50.0          10:30:00        50.0\n",
       "4          ant man          10:40:00        30.0          10:40:00        30.0\n",
       "5            susan               NaN         NaN          10:00:00        20.0"
      ]
     },
     "execution_count": 5,
     "metadata": {},
     "output_type": "execute_result"
    }
   ],
   "source": [
    "pd.merge(first_frame, second_frame, on='Name', how='outer')"
   ]
  },
  {
   "cell_type": "markdown",
   "id": "8a3a8407",
   "metadata": {},
   "source": [
    "### c. Merge two data frames row-wise and find the total number of records in the data frame."
   ]
  },
  {
   "cell_type": "code",
   "execution_count": 7,
   "id": "b5c68c6f",
   "metadata": {},
   "outputs": [],
   "source": [
    "total_records = pd.concat({'Day 1': first_frame, 'Day 2': second_frame}, axis=0)"
   ]
  },
  {
   "cell_type": "code",
   "execution_count": 8,
   "id": "f19c6f31",
   "metadata": {},
   "outputs": [
    {
     "data": {
      "text/html": [
       "<div>\n",
       "<style scoped>\n",
       "    .dataframe tbody tr th:only-of-type {\n",
       "        vertical-align: middle;\n",
       "    }\n",
       "\n",
       "    .dataframe tbody tr th {\n",
       "        vertical-align: top;\n",
       "    }\n",
       "\n",
       "    .dataframe thead th {\n",
       "        text-align: right;\n",
       "    }\n",
       "</style>\n",
       "<table border=\"1\" class=\"dataframe\">\n",
       "  <thead>\n",
       "    <tr style=\"text-align: right;\">\n",
       "      <th></th>\n",
       "      <th></th>\n",
       "      <th>Name</th>\n",
       "      <th>Time Of Joining</th>\n",
       "      <th>Duration</th>\n",
       "    </tr>\n",
       "  </thead>\n",
       "  <tbody>\n",
       "    <tr>\n",
       "      <th rowspan=\"5\" valign=\"top\">Day 1</th>\n",
       "      <th>0</th>\n",
       "      <td>james</td>\n",
       "      <td>10:00:00</td>\n",
       "      <td>30.0</td>\n",
       "    </tr>\n",
       "    <tr>\n",
       "      <th>1</th>\n",
       "      <td>green</td>\n",
       "      <td>10:10:00</td>\n",
       "      <td>40.0</td>\n",
       "    </tr>\n",
       "    <tr>\n",
       "      <th>2</th>\n",
       "      <td>mr fantastic</td>\n",
       "      <td>10:20:00</td>\n",
       "      <td>50.0</td>\n",
       "    </tr>\n",
       "    <tr>\n",
       "      <th>3</th>\n",
       "      <td>invisible women</td>\n",
       "      <td>10:30:00</td>\n",
       "      <td>50.0</td>\n",
       "    </tr>\n",
       "    <tr>\n",
       "      <th>4</th>\n",
       "      <td>ant man</td>\n",
       "      <td>10:40:00</td>\n",
       "      <td>30.0</td>\n",
       "    </tr>\n",
       "    <tr>\n",
       "      <th rowspan=\"5\" valign=\"top\">Day 2</th>\n",
       "      <th>0</th>\n",
       "      <td>susan</td>\n",
       "      <td>10:00:00</td>\n",
       "      <td>20.0</td>\n",
       "    </tr>\n",
       "    <tr>\n",
       "      <th>1</th>\n",
       "      <td>green</td>\n",
       "      <td>10:10:00</td>\n",
       "      <td>40.0</td>\n",
       "    </tr>\n",
       "    <tr>\n",
       "      <th>2</th>\n",
       "      <td>mr fantastic</td>\n",
       "      <td>10:20:00</td>\n",
       "      <td>50.0</td>\n",
       "    </tr>\n",
       "    <tr>\n",
       "      <th>3</th>\n",
       "      <td>invisible women</td>\n",
       "      <td>10:30:00</td>\n",
       "      <td>50.0</td>\n",
       "    </tr>\n",
       "    <tr>\n",
       "      <th>4</th>\n",
       "      <td>ant man</td>\n",
       "      <td>10:40:00</td>\n",
       "      <td>30.0</td>\n",
       "    </tr>\n",
       "  </tbody>\n",
       "</table>\n",
       "</div>"
      ],
      "text/plain": [
       "                    Name Time Of Joining  Duration\n",
       "Day 1 0            james        10:00:00      30.0\n",
       "      1            green        10:10:00      40.0\n",
       "      2     mr fantastic        10:20:00      50.0\n",
       "      3  invisible women        10:30:00      50.0\n",
       "      4          ant man        10:40:00      30.0\n",
       "Day 2 0            susan        10:00:00      20.0\n",
       "      1            green        10:10:00      40.0\n",
       "      2     mr fantastic        10:20:00      50.0\n",
       "      3  invisible women        10:30:00      50.0\n",
       "      4          ant man        10:40:00      30.0"
      ]
     },
     "execution_count": 8,
     "metadata": {},
     "output_type": "execute_result"
    }
   ],
   "source": [
    "total_records"
   ]
  },
  {
   "cell_type": "code",
   "execution_count": 9,
   "id": "278c15e6",
   "metadata": {},
   "outputs": [
    {
     "data": {
      "text/plain": [
       "10"
      ]
     },
     "execution_count": 9,
     "metadata": {},
     "output_type": "execute_result"
    }
   ],
   "source": [
    "len(total_records)"
   ]
  }
 ],
 "metadata": {
  "kernelspec": {
   "display_name": "Python 3",
   "language": "python",
   "name": "python3"
  },
  "language_info": {
   "codemirror_mode": {
    "name": "ipython",
    "version": 3
   },
   "file_extension": ".py",
   "mimetype": "text/x-python",
   "name": "python",
   "nbconvert_exporter": "python",
   "pygments_lexer": "ipython3",
   "version": "3.9.6"
  }
 },
 "nbformat": 4,
 "nbformat_minor": 5
}
