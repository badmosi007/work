{
 "cells": [
  {
   "cell_type": "markdown",
   "metadata": {
    "id": "8fV2IlW-uhSc"
   },
   "source": [
    "Question 1:"
   ]
  },
  {
   "cell_type": "code",
   "execution_count": null,
   "metadata": {
    "colab": {
     "base_uri": "https://localhost:8080/"
    },
    "id": "MjUSJWkwi3J-",
    "outputId": "7adc59a7-17fc-4ed3-f4cf-0c88817d67d9"
   },
   "outputs": [
    {
     "name": "stdout",
     "output_type": "stream",
     "text": [
      "[{'Boys': 72, 'Girls': 63}, {'Boys': 68, 'Girls': 65}, {'Boys': 70, 'Girls': 69}, {'Boys': 69, 'Girls': 62}, {'Boys': 74, 'Girls': 61}]\n"
     ]
    }
   ],
   "source": [
    "dict1={\"Boys\":[72,68,70,69,74],\"Girls\":[63,65,69,62,61]}\n",
    "\n",
    "list1=[]\n",
    "x=(len(dict1[\"Boys\"]))\n",
    "for i in range (x):\n",
    "  list1.append({\"Boys\": dict1[\"Boys\"][i],\"Girls\": dict1[\"Girls\"][i]})\n",
    "print(list1)"
   ]
  },
  {
   "cell_type": "markdown",
   "metadata": {
    "id": "uE9RYCvMulvU"
   },
   "source": [
    "Question 2:"
   ]
  },
  {
   "cell_type": "code",
   "execution_count": null,
   "metadata": {
    "id": "6q1qWYaHtBp4"
   },
   "outputs": [
    {
     "name": "stdout",
     "output_type": "stream",
     "text": [
      "[1 2 0 4 3]\n"
     ]
    }
   ],
   "source": [
    "import math\n",
    "import pandas as pd\n",
    "import numpy as np\n",
    "\n",
    "arr = [4, 2, 3, 7, 6]\n",
    "l = np.argsort(arr)\n",
    "print(l)\n",
    "# q2\n",
    "l1 = []\n",
    "l2 = []\n",
    "n1 = int(input(\"Number of elements in arr1 : \"))\n",
    "print(\"Enter elements for array 1: \")\n",
    "for x in range(n1):\n",
    "    l1.append(int(input()))\n",
    "n1 = int(input(\"Number of elements in arr2 : \"))\n",
    "print(\"Enter elements for array 2: \")\n",
    "for x in range(n1):\n",
    "    l2.append(int(input()))\n",
    "Arr = np.array([l1, l2])\n",
    "print(l1)\n",
    "print(l2)\n",
    "print(Arr)\n",
    "\n",
    "# ---------a----------\n",
    "print(\"Mean = \", np.mean(Arr, axis=1))\n",
    "print(\"Standard deviation = \", np.std(Arr, axis=1))\n",
    "print(\"Variance = \", np.var(Arr, axis=1))\n",
    "\n",
    "# ----------b----------\n",
    "B = [56, 48, 22, 41, 78, 91, 24, 46, 8, 33]\n",
    "l = np.argsort(B)\n",
    "print(l)\n",
    "\n",
    "# ----------c----------\n",
    "print(\"Shape = \", np.shape(Arr))\n",
    "print(\"Type = \", type(Arr))\n",
    "print(\"Data type = \", Arr.dtype)\n",
    "print(\"Reshape = \\n\", np.reshape(Arr, (5, 2)))\n",
    "print(\"Transpose = \\n\", np.transpose(Arr))\n",
    "\n",
    "# ----------d-----------\n",
    "arr1 = [3, 0, 42, 0, math.nan, math.nan]\n",
    "a = np.array(arr1)\n",
    "a1 = np.nonzero(a)\n",
    "print(\"Non-zeroes in a = \", a1)\n",
    "a2 = np.nonzero(a == 0)\n",
    "print(\"Zeroes in a = \", a2)\n",
    "a3 = np.isnan(arr1)\n",
    "a4 = np.where(a3 == True)\n",
    "print(\"NaN values in a = \", a4)"
   ]
  },
  {
   "cell_type": "markdown",
   "metadata": {
    "id": "fJFrA80iupGa"
   },
   "source": [
    "Question 3:"
   ]
  },
  {
   "cell_type": "code",
   "execution_count": null,
   "metadata": {
    "colab": {
     "base_uri": "https://localhost:8080/"
    },
    "id": "ih4u3WG6usMq",
    "outputId": "18355d1c-85ca-485c-942a-dfd8502aeb93"
   },
   "outputs": [
    {
     "name": "stdout",
     "output_type": "stream",
     "text": [
      "['bxbb', 'xxb', 'axc', 'zzc', 'zzxy']\n"
     ]
    }
   ],
   "source": [
    "\n",
    "names = [\"axc\", \"bxbb\", \"xxb\",\"zzxy\",\"zzc\"]\n",
    "names.sort(key = lambda x:x[-1])\n",
    "print(names)"
   ]
  },
  {
   "cell_type": "code",
   "execution_count": null,
   "metadata": {
    "colab": {
     "base_uri": "https://localhost:8080/"
    },
    "id": "uf64wFp35FZh",
    "outputId": "5eb5000a-d540-4055-839b-21d99c25816f"
   },
   "outputs": [
    {
     "name": "stdout",
     "output_type": "stream",
     "text": [
      "['axc', 'xxb', 'zzc', 'bxbb', 'zzxy']\n",
      "{3: 'zzc', 4: 'zzxy'}\n"
     ]
    }
   ],
   "source": [
    "\n",
    "names1 = [\"axc\", \"bxbb\", \"xxb\",\"zzxy\",\"zzc\"]\n",
    "names1.sort(key = lambda x:len(x))\n",
    "print(names1)\n",
    "dict2={len(name):name for name in names1}\n",
    "print(dict2)"
   ]
  },
  {
   "cell_type": "markdown",
   "metadata": {
    "id": "ci_JnVy5Iaeg"
   },
   "source": [
    "Question 4:"
   ]
  },
  {
   "cell_type": "code",
   "execution_count": null,
   "metadata": {
    "id": "DT2UkKX0IZMZ"
   },
   "outputs": [],
   "source": [
    "import numpy as np"
   ]
  },
  {
   "cell_type": "code",
   "execution_count": null,
   "metadata": {
    "colab": {
     "base_uri": "https://localhost:8080/"
    },
    "id": "ZsvYdjkkKQd3",
    "outputId": "c8036be6-4f1c-4d2c-8ba1-36993a12feae"
   },
   "outputs": [
    {
     "name": "stdout",
     "output_type": "stream",
     "text": [
      "[[88 85 31]\n",
      " [16 24 73]\n",
      " [87 69 37]\n",
      " [28 77 46]]\n",
      "[68.         37.66666667 64.33333333 50.33333333]\n",
      "[686.         634.88888889 427.55555556 409.55555556]\n",
      "[26.19160171 25.19700159 20.67741656 20.23747898]\n"
     ]
    }
   ],
   "source": [
    "arr=np.random.randint(100,size=(4,3))\n",
    "print(arr)\n",
    "#axis=1 means along each row\n",
    "print(arr.mean(axis=1)) \n",
    "print(arr.var(axis=1))\n",
    "print(arr.std(axis=1))\n"
   ]
  },
  {
   "cell_type": "code",
   "execution_count": null,
   "metadata": {
    "colab": {
     "base_uri": "https://localhost:8080/"
    },
    "id": "9bsoagTyLh2t",
    "outputId": "ccb3fda5-71ec-4d98-bd48-b2afa0a41a66"
   },
   "outputs": [
    {
     "name": "stdout",
     "output_type": "stream",
     "text": [
      "[56 48 22 41 78 91 24 46  8 33]\n",
      "[8 2 6 9 3 7 1 0 4 5]\n"
     ]
    }
   ],
   "source": [
    "arr=np.array([56,48,22,41,78,91,24,46,8,33])\n",
    "#arr.sort()\n",
    "print(arr)\n",
    "print(arr.argsort())\n",
    "#for i in range(arr.size):\n",
    " # print(str(i) + \": \" + str(arr[i]))\n",
    "  "
   ]
  },
  {
   "cell_type": "code",
   "execution_count": null,
   "metadata": {
    "colab": {
     "base_uri": "https://localhost:8080/"
    },
    "id": "5jV5TY3QSLre",
    "outputId": "668c41a6-4eb7-4eac-f92d-0d99c1f09da8"
   },
   "outputs": [
    {
     "name": "stdout",
     "output_type": "stream",
     "text": [
      "enter no. of rows and cols2 3\n",
      "[[5 7 8]\n",
      " [0 1 9]]\n"
     ]
    }
   ],
   "source": [
    "#m=input(\"enter no. of row\")\n",
    "#n=input(\"enter no. of col\")\n",
    "m,n=input('enter no. of rows and cols').split()\n",
    "arr=np.random.randint(10,size=(int(m),int(n)))\n",
    "print(arr)\n"
   ]
  },
  {
   "cell_type": "code",
   "execution_count": null,
   "metadata": {
    "id": "hGiLPjh7puoQ"
   },
   "outputs": [],
   "source": []
  },
  {
   "cell_type": "code",
   "execution_count": null,
   "metadata": {
    "colab": {
     "base_uri": "https://localhost:8080/"
    },
    "id": "wbnsX5PkpwTP",
    "outputId": "6b967dd6-cc8d-4cd1-8cc6-856136b6198d"
   },
   "outputs": [],
   "source": [
    "arr= np.array([[1, 0, 3, 4 , np.nan,],[11 , 0 , -1 , np.nan , 0]])\n",
    "print(np.where(arr==0))\n",
    "print(np.where(arr!=0))\n",
    "print(np.where(np.isnan(arr)==True))\n"
   ]
  },
  {
   "cell_type": "code",
   "execution_count": null,
   "metadata": {
    "colab": {
     "base_uri": "https://localhost:8080/"
    },
    "id": "3Gw3GzAeTUX4",
    "outputId": "46e080ce-6a3c-4555-c8da-a4a31efc9a3c"
   },
   "outputs": [
    {
     "name": "stdout",
     "output_type": "stream",
     "text": [
      "(2, 3)\n",
      "int64\n",
      "<class 'numpy.ndarray'>\n"
     ]
    }
   ],
   "source": [
    "print(arr.shape)\n",
    "print(arr.dtype)\n",
    "print(type(arr))"
   ]
  },
  {
   "cell_type": "code",
   "execution_count": null,
   "metadata": {
    "colab": {
     "base_uri": "https://localhost:8080/"
    },
    "id": "TmbQcLZmThHC",
    "outputId": "65cdc36b-fa5a-4765-80b5-9bdeeb751df4"
   },
   "outputs": [
    {
     "name": "stdout",
     "output_type": "stream",
     "text": [
      "[[1 9 5]\n",
      " [2 9 9]\n",
      " [5 2 3]]\n"
     ]
    }
   ],
   "source": [
    "print(arr.T)"
   ]
  },
  {
   "cell_type": "code",
   "execution_count": null,
   "metadata": {
    "colab": {
     "base_uri": "https://localhost:8080/"
    },
    "id": "F70t5oSxTt5v",
    "outputId": "90daeacc-261a-4ccf-f451-3dc8761771b4"
   },
   "outputs": [
    {
     "name": "stdout",
     "output_type": "stream",
     "text": [
      "[]\n",
      "[]\n",
      "[1, 2, 5, 9, 9, 2, 5, 9, 3]\n"
     ]
    }
   ],
   "source": [
    "arr1=[]\n",
    "arr2=[]\n",
    "arr3=[]\n",
    "for i in range(int(m)):\n",
    "  for j in range(int(n)):\n",
    "    if arr[i][j]==0:\n",
    "      arr1.append(arr[i][j])\n",
    "    elif arr[i][j]==np.NaN:\n",
    "      arr2.append(arr[i][j])\n",
    "    else:\n",
    "      arr3.append(arr[i][j])\n",
    "print(arr1)\n",
    "print(arr2)\n",
    "print(arr3)\n"
   ]
  },
  {
   "cell_type": "markdown",
   "metadata": {
    "id": "r3YExZ1OXPtI"
   },
   "source": [
    "Question 5"
   ]
  },
  {
   "cell_type": "code",
   "execution_count": null,
   "metadata": {
    "id": "igDI23bvXVgX"
   },
   "outputs": [],
   "source": [
    "import pandas as pd"
   ]
  },
  {
   "cell_type": "code",
   "execution_count": null,
   "metadata": {
    "id": "aj1cjiN44tNs"
   },
   "outputs": [],
   "source": [
    "arr=np.random.randint(100,size=(50,3))\n",
    "df=pd.DataFrame(arr,columns=['first','second','third'])\n",
    "\n",
    "#print(df)\n",
    "#x=0.1*150\n",
    "for y in range(15):\n",
    "  i=np.random.randint(50)\n",
    "  j=np.random.randint(3)\n",
    "  if(df.iloc[i,j]!=np.nan):\n",
    "    df.iat[i,j]=np.nan\n",
    "\n",
    "print(df)\n"
   ]
  },
  {
   "cell_type": "code",
   "execution_count": null,
   "metadata": {
    "id": "KKw4B4N0145s"
   },
   "outputs": [],
   "source": [
    "df.drop_duplicates(subset='first',keep='first',inplace=True)\n",
    "print(df)"
   ]
  },
  {
   "cell_type": "code",
   "execution_count": null,
   "metadata": {
    "id": "1BqmFOty6Uec"
   },
   "outputs": [],
   "source": [
    "df.plot.box()"
   ]
  },
  {
   "cell_type": "code",
   "execution_count": null,
   "metadata": {
    "id": "XR6kHEsWAZ8s"
   },
   "outputs": [],
   "source": [
    "sum=df.sum(axis=1)\n",
    "print(\"SUM OF DATAFRAME ROW-WISE :\\n\", sum)\n",
    "print(\"\\n MAXIMUM SUM OF ROW ELEMENTS IS :\",sum.max())\n",
    "max_sum_index = df.sum(axis=1).idxmax()\n",
    "print(\"\\nIndex of row having maximum sum is :\" ,max_sum_index)\n",
    "df.drop(index=max_sum_index)"
   ]
  },
  {
   "cell_type": "code",
   "execution_count": null,
   "metadata": {
    "id": "-82jQQHj8S0C"
   },
   "outputs": [],
   "source": [
    "#for col in df.columns:\n",
    "  #print(df[col].isnull().sum())\n",
    "  #df.dropna(axis = 1,thresh=(df[col].isnull().sum()>4),inplace=True)\n",
    "  #print(df)\n",
    "for col in df.columns:\n",
    " print(col,df[col].isnull().sum())\n",
    "df.dropna(axis = 1,thresh=(df.shape[0]-5))\n"
   ]
  },
  {
   "cell_type": "code",
   "execution_count": null,
   "metadata": {
    "id": "PadLqDTibr6g"
   },
   "outputs": [],
   "source": []
  },
  {
   "cell_type": "code",
   "execution_count": null,
   "metadata": {
    "colab": {
     "base_uri": "https://localhost:8080/"
    },
    "id": "YqobDUUj9SaF",
    "outputId": "cd066594-8c1a-4ff2-c710-9206d5ffd429"
   },
   "outputs": [
    {
     "name": "stdout",
     "output_type": "stream",
     "text": [
      "96\n"
     ]
    }
   ],
   "source": [
    "print(df.iloc[1,1])"
   ]
  },
  {
   "cell_type": "code",
   "execution_count": null,
   "metadata": {
    "colab": {
     "base_uri": "https://localhost:8080/"
    },
    "id": "1QCoLUgT6Oi4",
    "outputId": "1ac58a5f-ebaa-4d8a-e099-f325df618af9"
   },
   "outputs": [
    {
     "name": "stdout",
     "output_type": "stream",
     "text": [
      "15\n"
     ]
    }
   ],
   "source": [
    "print(df.isnull().sum().sum())"
   ]
  },
  {
   "cell_type": "code",
   "execution_count": null,
   "metadata": {
    "id": "xIcuQOSbYN02"
   },
   "outputs": [],
   "source": [
    "arr=np.random.rand(50,3)\n",
    "arr"
   ]
  },
  {
   "cell_type": "code",
   "execution_count": null,
   "metadata": {
    "id": "zM-VcenVYYsW"
   },
   "outputs": [],
   "source": [
    "df=pd.DataFrame(arr)\n",
    "df"
   ]
  },
  {
   "cell_type": "code",
   "execution_count": null,
   "metadata": {
    "id": "K1LxGPdBYrLA"
   },
   "outputs": [],
   "source": [
    "row = df.shape[0]  # Gives number of rows\n",
    "col = df.shape[1]  # Gives number of columns\n",
    "\n",
    "n=0.1*row*col\n",
    "\n",
    "while(n!=0):\n",
    "  i=np.random.randint(row)\n",
    "  j=np.random.randint(col)\n",
    "  if(df.iloc[i,j]!=np.nan):\n",
    "    df.iloc[i,j]=np.nan\n",
    "  n=n-1\n",
    "df"
   ]
  },
  {
   "cell_type": "code",
   "execution_count": null,
   "metadata": {
    "colab": {
     "base_uri": "https://localhost:8080/"
    },
    "id": "YTg-J6Czdj2E",
    "outputId": "41845d10-7378-4e60-c5d4-34b1ccc6249c"
   },
   "outputs": [
    {
     "name": "stdout",
     "output_type": "stream",
     "text": [
      "Total number of missing values in dataframe: 13\n"
     ]
    }
   ],
   "source": [
    "print(\"Total number of missing values in dataframe: \" + str(df.isnull().sum().sum()) )"
   ]
  },
  {
   "cell_type": "code",
   "execution_count": null,
   "metadata": {
    "id": "gt5gdzmtfBBD"
   },
   "outputs": [],
   "source": [
    "df.dropna(thresh=df.isnull().sum()>5 ,axis=1)"
   ]
  },
  {
   "cell_type": "code",
   "execution_count": null,
   "metadata": {
    "colab": {
     "base_uri": "https://localhost:8080/"
    },
    "id": "VHfUaM7q3HSZ",
    "outputId": "2d83b117-b29f-4ae4-c07b-786ab550b6fc"
   },
   "outputs": [
    {
     "data": {
      "text/plain": [
       "0    6\n",
       "1    4\n",
       "2    5\n",
       "dtype: int64"
      ]
     },
     "execution_count": 10,
     "metadata": {},
     "output_type": "execute_result"
    }
   ],
   "source": [
    "df.isnull().sum()"
   ]
  },
  {
   "cell_type": "code",
   "execution_count": null,
   "metadata": {
    "id": "He81GmoIpyyt"
   },
   "outputs": [],
   "source": [
    "df.sort_values(0) #sorting values in dataframe on basis of first column"
   ]
  },
  {
   "cell_type": "code",
   "execution_count": null,
   "metadata": {
    "id": "D3TbQPW8f4gD"
   },
   "outputs": [],
   "source": [
    "df.dropna(axis=0, thresh=max(df.sum(axis=1))) \n",
    "df.drop_duplicates(subset=0, keep='first')"
   ]
  },
  {
   "cell_type": "code",
   "execution_count": null,
   "metadata": {
    "id": "Ntd1xKp8sp-P"
   },
   "outputs": [],
   "source": [
    "df.drop_duplicates(subset=0, keep='first')"
   ]
  },
  {
   "cell_type": "code",
   "execution_count": null,
   "metadata": {
    "colab": {
     "base_uri": "https://localhost:8080/"
    },
    "id": "9skfBRMetqTV",
    "outputId": "f4c13475-fc3f-42e9-880c-1b7d42d1f6be"
   },
   "outputs": [
    {
     "data": {
      "text/plain": [
       "-0.002691888571376212"
      ]
     },
     "execution_count": 19,
     "metadata": {},
     "output_type": "execute_result"
    }
   ],
   "source": [
    "df[0].corr(df[1])"
   ]
  },
  {
   "cell_type": "code",
   "execution_count": null,
   "metadata": {
    "colab": {
     "base_uri": "https://localhost:8080/"
    },
    "id": "btjvGdwjt8lS",
    "outputId": "45ddf255-1714-4ccf-abef-094d22f31cbd"
   },
   "outputs": [
    {
     "data": {
      "text/plain": [
       "-0.0014977844673722195"
      ]
     },
     "execution_count": 20,
     "metadata": {},
     "output_type": "execute_result"
    }
   ],
   "source": [
    "df[1].cov(df[2])"
   ]
  },
  {
   "cell_type": "code",
   "execution_count": null,
   "metadata": {
    "id": "LMNbnjPhujeF"
   },
   "outputs": [],
   "source": [
    "#detect and remove outliers"
   ]
  },
  {
   "cell_type": "code",
   "execution_count": null,
   "metadata": {
    "id": "h_n-7lrvu05e"
   },
   "outputs": [],
   "source": [
    "pd.cut(df[1],5)"
   ]
  },
  {
   "cell_type": "markdown",
   "metadata": {
    "id": "WpGn5iCETafQ"
   },
   "source": [
    "Consider two csv files of students of years 2019 and 2020 having following details (student\n",
    "name, hobby, course)   where coruses are (CShons, BComhons, PSCS) and hobbies are\n",
    "(writing, painting, music, dancing). Answer the following\n",
    "i) Find all hobbies types for each course  in both years\n",
    "ii) Find hobbies which are there in 2019 but not in 2020 for each course\n",
    "iii) Find common hobbies in both year\n",
    "iv) Find course name in which students are exploring all hobbies\n",
    "v) Find count of students exploring each hobby in both year"
   ]
  },
  {
   "cell_type": "code",
   "execution_count": null,
   "metadata": {
    "id": "FGU2NYmyTbfA"
   },
   "outputs": [],
   "source": [
    "import pandas as pd"
   ]
  },
  {
   "cell_type": "code",
   "execution_count": null,
   "metadata": {
    "colab": {
     "base_uri": "https://localhost:8080/",
     "height": 203
    },
    "id": "1RVP40EzXWWE",
    "outputId": "bb5a9bc1-2205-440d-9e6f-d2b912ff959e"
   },
   "outputs": [
    {
     "name": "stdout",
     "output_type": "stream",
     "text": [
      "     name     hobby course\n",
      "0   Bhavs   drawing   PSCS\n",
      "1     Ant  football   Bcom\n",
      "2   Shiks   Singing   PSCS\n",
      "3  Dhruva   writing   Bcom\n"
     ]
    },
    {
     "data": {
      "text/html": [
       "\n",
       "  <div id=\"df-bfecb4f7-459d-42e6-aece-8550e007a8df\">\n",
       "    <div class=\"colab-df-container\">\n",
       "      <div>\n",
       "<style scoped>\n",
       "    .dataframe tbody tr th:only-of-type {\n",
       "        vertical-align: middle;\n",
       "    }\n",
       "\n",
       "    .dataframe tbody tr th {\n",
       "        vertical-align: top;\n",
       "    }\n",
       "\n",
       "    .dataframe thead th {\n",
       "        text-align: right;\n",
       "    }\n",
       "</style>\n",
       "<table border=\"1\" class=\"dataframe\">\n",
       "  <thead>\n",
       "    <tr style=\"text-align: right;\">\n",
       "      <th></th>\n",
       "      <th>name_x</th>\n",
       "      <th>hobby</th>\n",
       "      <th>course_x</th>\n",
       "      <th>name_y</th>\n",
       "      <th>course_y</th>\n",
       "    </tr>\n",
       "  </thead>\n",
       "  <tbody>\n",
       "    <tr>\n",
       "      <th>0</th>\n",
       "      <td>Palak</td>\n",
       "      <td>drawing</td>\n",
       "      <td>CS</td>\n",
       "      <td>Bhavs</td>\n",
       "      <td>PSCS</td>\n",
       "    </tr>\n",
       "    <tr>\n",
       "      <th>1</th>\n",
       "      <td>Mants</td>\n",
       "      <td>writing</td>\n",
       "      <td>Bcom</td>\n",
       "      <td>Dhruva</td>\n",
       "      <td>Bcom</td>\n",
       "    </tr>\n",
       "  </tbody>\n",
       "</table>\n",
       "</div>\n",
       "      <button class=\"colab-df-convert\" onclick=\"convertToInteractive('df-bfecb4f7-459d-42e6-aece-8550e007a8df')\"\n",
       "              title=\"Convert this dataframe to an interactive table.\"\n",
       "              style=\"display:none;\">\n",
       "        \n",
       "  <svg xmlns=\"http://www.w3.org/2000/svg\" height=\"24px\"viewBox=\"0 0 24 24\"\n",
       "       width=\"24px\">\n",
       "    <path d=\"M0 0h24v24H0V0z\" fill=\"none\"/>\n",
       "    <path d=\"M18.56 5.44l.94 2.06.94-2.06 2.06-.94-2.06-.94-.94-2.06-.94 2.06-2.06.94zm-11 1L8.5 8.5l.94-2.06 2.06-.94-2.06-.94L8.5 2.5l-.94 2.06-2.06.94zm10 10l.94 2.06.94-2.06 2.06-.94-2.06-.94-.94-2.06-.94 2.06-2.06.94z\"/><path d=\"M17.41 7.96l-1.37-1.37c-.4-.4-.92-.59-1.43-.59-.52 0-1.04.2-1.43.59L10.3 9.45l-7.72 7.72c-.78.78-.78 2.05 0 2.83L4 21.41c.39.39.9.59 1.41.59.51 0 1.02-.2 1.41-.59l7.78-7.78 2.81-2.81c.8-.78.8-2.07 0-2.86zM5.41 20L4 18.59l7.72-7.72 1.47 1.35L5.41 20z\"/>\n",
       "  </svg>\n",
       "      </button>\n",
       "      \n",
       "  <style>\n",
       "    .colab-df-container {\n",
       "      display:flex;\n",
       "      flex-wrap:wrap;\n",
       "      gap: 12px;\n",
       "    }\n",
       "\n",
       "    .colab-df-convert {\n",
       "      background-color: #E8F0FE;\n",
       "      border: none;\n",
       "      border-radius: 50%;\n",
       "      cursor: pointer;\n",
       "      display: none;\n",
       "      fill: #1967D2;\n",
       "      height: 32px;\n",
       "      padding: 0 0 0 0;\n",
       "      width: 32px;\n",
       "    }\n",
       "\n",
       "    .colab-df-convert:hover {\n",
       "      background-color: #E2EBFA;\n",
       "      box-shadow: 0px 1px 2px rgba(60, 64, 67, 0.3), 0px 1px 3px 1px rgba(60, 64, 67, 0.15);\n",
       "      fill: #174EA6;\n",
       "    }\n",
       "\n",
       "    [theme=dark] .colab-df-convert {\n",
       "      background-color: #3B4455;\n",
       "      fill: #D2E3FC;\n",
       "    }\n",
       "\n",
       "    [theme=dark] .colab-df-convert:hover {\n",
       "      background-color: #434B5C;\n",
       "      box-shadow: 0px 1px 3px 1px rgba(0, 0, 0, 0.15);\n",
       "      filter: drop-shadow(0px 1px 2px rgba(0, 0, 0, 0.3));\n",
       "      fill: #FFFFFF;\n",
       "    }\n",
       "  </style>\n",
       "\n",
       "      <script>\n",
       "        const buttonEl =\n",
       "          document.querySelector('#df-bfecb4f7-459d-42e6-aece-8550e007a8df button.colab-df-convert');\n",
       "        buttonEl.style.display =\n",
       "          google.colab.kernel.accessAllowed ? 'block' : 'none';\n",
       "\n",
       "        async function convertToInteractive(key) {\n",
       "          const element = document.querySelector('#df-bfecb4f7-459d-42e6-aece-8550e007a8df');\n",
       "          const dataTable =\n",
       "            await google.colab.kernel.invokeFunction('convertToInteractive',\n",
       "                                                     [key], {});\n",
       "          if (!dataTable) return;\n",
       "\n",
       "          const docLinkHtml = 'Like what you see? Visit the ' +\n",
       "            '<a target=\"_blank\" href=https://colab.research.google.com/notebooks/data_table.ipynb>data table notebook</a>'\n",
       "            + ' to learn more about interactive tables.';\n",
       "          element.innerHTML = '';\n",
       "          dataTable['output_type'] = 'display_data';\n",
       "          await google.colab.output.renderOutput(dataTable, element);\n",
       "          const docLink = document.createElement('div');\n",
       "          docLink.innerHTML = docLinkHtml;\n",
       "          element.appendChild(docLink);\n",
       "        }\n",
       "      </script>\n",
       "    </div>\n",
       "  </div>\n",
       "  "
      ],
      "text/plain": [
       "  name_x    hobby course_x  name_y course_y\n",
       "0  Palak  drawing       CS   Bhavs     PSCS\n",
       "1  Mants  writing     Bcom  Dhruva     Bcom"
      ]
     },
     "execution_count": 25,
     "metadata": {},
     "output_type": "execute_result"
    }
   ],
   "source": [
    "df1=pd.read_csv('/content/2019.csv')\n",
    "df2=pd.read_csv('/content/2020.csv')\n",
    "#i\n",
    "print(df2)\n",
    "\n",
    "\n",
    "#ii\n",
    "#pd.merge(df1,df2,on='hobby',how='left')\n",
    "#iii\n",
    "pd.merge(df1,df2,on='hobby',how='inner')"
   ]
  }
 ],
 "metadata": {
  "colab": {
   "provenance": []
  },
  "kernelspec": {
   "display_name": "Python 3 (ipykernel)",
   "language": "python",
   "name": "python3"
  },
  "language_info": {
   "codemirror_mode": {
    "name": "ipython",
    "version": 3
   },
   "file_extension": ".py",
   "mimetype": "text/x-python",
   "name": "python",
   "nbconvert_exporter": "python",
   "pygments_lexer": "ipython3",
   "version": "3.9.12"
  }
 },
 "nbformat": 4,
 "nbformat_minor": 1
}
